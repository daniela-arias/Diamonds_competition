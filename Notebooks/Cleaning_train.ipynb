{
 "cells": [
  {
   "cell_type": "markdown",
   "id": "9b6941fb",
   "metadata": {},
   "source": [
    "## 1. Import libraries"
   ]
  },
  {
   "cell_type": "code",
   "execution_count": 47,
   "id": "3a1d2a33",
   "metadata": {},
   "outputs": [],
   "source": [
    "%matplotlib inline\n",
    "%config Inlinebackend.figure_format= 'retina'\n",
    "\n",
    "import numpy as np\n",
    "import pandas as pd\n",
    "import seaborn as sns\n",
    "import matplotlib.pyplot as plt"
   ]
  },
  {
   "cell_type": "code",
   "execution_count": 55,
   "id": "5208998f",
   "metadata": {},
   "outputs": [],
   "source": [
    "sns.set_context(\"poster\")\n",
    "sns.set(rc={\"figure.figsize\": (12.,10.)})\n",
    "sns.set_style(\"whitegrid\")"
   ]
  },
  {
   "cell_type": "markdown",
   "id": "d8eb738b",
   "metadata": {},
   "source": [
    "## 2. Import Data"
   ]
  },
  {
   "cell_type": "code",
   "execution_count": 15,
   "id": "ecd3df71",
   "metadata": {},
   "outputs": [],
   "source": [
    "train = pd.read_csv(\"../Data/train.csv\")"
   ]
  },
  {
   "cell_type": "code",
   "execution_count": 16,
   "id": "d860117c",
   "metadata": {},
   "outputs": [
    {
     "data": {
      "text/html": [
       "<div>\n",
       "<style scoped>\n",
       "    .dataframe tbody tr th:only-of-type {\n",
       "        vertical-align: middle;\n",
       "    }\n",
       "\n",
       "    .dataframe tbody tr th {\n",
       "        vertical-align: top;\n",
       "    }\n",
       "\n",
       "    .dataframe thead th {\n",
       "        text-align: right;\n",
       "    }\n",
       "</style>\n",
       "<table border=\"1\" class=\"dataframe\">\n",
       "  <thead>\n",
       "    <tr style=\"text-align: right;\">\n",
       "      <th></th>\n",
       "      <th>id</th>\n",
       "      <th>carat</th>\n",
       "      <th>cut</th>\n",
       "      <th>color</th>\n",
       "      <th>clarity</th>\n",
       "      <th>depth</th>\n",
       "      <th>table</th>\n",
       "      <th>x</th>\n",
       "      <th>y</th>\n",
       "      <th>z</th>\n",
       "      <th>price</th>\n",
       "    </tr>\n",
       "  </thead>\n",
       "  <tbody>\n",
       "    <tr>\n",
       "      <th>0</th>\n",
       "      <td>0</td>\n",
       "      <td>1.14</td>\n",
       "      <td>Ideal</td>\n",
       "      <td>G</td>\n",
       "      <td>VVS2</td>\n",
       "      <td>61.0</td>\n",
       "      <td>56.0</td>\n",
       "      <td>6.74</td>\n",
       "      <td>6.76</td>\n",
       "      <td>4.12</td>\n",
       "      <td>9013</td>\n",
       "    </tr>\n",
       "    <tr>\n",
       "      <th>1</th>\n",
       "      <td>1</td>\n",
       "      <td>0.76</td>\n",
       "      <td>Ideal</td>\n",
       "      <td>H</td>\n",
       "      <td>VS2</td>\n",
       "      <td>62.7</td>\n",
       "      <td>57.0</td>\n",
       "      <td>5.86</td>\n",
       "      <td>5.82</td>\n",
       "      <td>3.66</td>\n",
       "      <td>2692</td>\n",
       "    </tr>\n",
       "    <tr>\n",
       "      <th>2</th>\n",
       "      <td>2</td>\n",
       "      <td>0.84</td>\n",
       "      <td>Ideal</td>\n",
       "      <td>G</td>\n",
       "      <td>VS1</td>\n",
       "      <td>61.4</td>\n",
       "      <td>56.0</td>\n",
       "      <td>6.04</td>\n",
       "      <td>6.15</td>\n",
       "      <td>3.74</td>\n",
       "      <td>4372</td>\n",
       "    </tr>\n",
       "    <tr>\n",
       "      <th>3</th>\n",
       "      <td>3</td>\n",
       "      <td>1.55</td>\n",
       "      <td>Ideal</td>\n",
       "      <td>H</td>\n",
       "      <td>VS1</td>\n",
       "      <td>62.0</td>\n",
       "      <td>57.0</td>\n",
       "      <td>7.37</td>\n",
       "      <td>7.43</td>\n",
       "      <td>4.59</td>\n",
       "      <td>13665</td>\n",
       "    </tr>\n",
       "    <tr>\n",
       "      <th>4</th>\n",
       "      <td>4</td>\n",
       "      <td>0.30</td>\n",
       "      <td>Ideal</td>\n",
       "      <td>G</td>\n",
       "      <td>SI2</td>\n",
       "      <td>61.9</td>\n",
       "      <td>57.0</td>\n",
       "      <td>4.28</td>\n",
       "      <td>4.31</td>\n",
       "      <td>2.66</td>\n",
       "      <td>422</td>\n",
       "    </tr>\n",
       "    <tr>\n",
       "      <th>...</th>\n",
       "      <td>...</td>\n",
       "      <td>...</td>\n",
       "      <td>...</td>\n",
       "      <td>...</td>\n",
       "      <td>...</td>\n",
       "      <td>...</td>\n",
       "      <td>...</td>\n",
       "      <td>...</td>\n",
       "      <td>...</td>\n",
       "      <td>...</td>\n",
       "      <td>...</td>\n",
       "    </tr>\n",
       "    <tr>\n",
       "      <th>40450</th>\n",
       "      <td>40450</td>\n",
       "      <td>0.40</td>\n",
       "      <td>Ideal</td>\n",
       "      <td>E</td>\n",
       "      <td>VVS1</td>\n",
       "      <td>60.8</td>\n",
       "      <td>57.0</td>\n",
       "      <td>4.79</td>\n",
       "      <td>4.82</td>\n",
       "      <td>2.92</td>\n",
       "      <td>1278</td>\n",
       "    </tr>\n",
       "    <tr>\n",
       "      <th>40451</th>\n",
       "      <td>40451</td>\n",
       "      <td>0.52</td>\n",
       "      <td>Ideal</td>\n",
       "      <td>J</td>\n",
       "      <td>SI2</td>\n",
       "      <td>61.6</td>\n",
       "      <td>55.0</td>\n",
       "      <td>5.16</td>\n",
       "      <td>5.19</td>\n",
       "      <td>3.19</td>\n",
       "      <td>924</td>\n",
       "    </tr>\n",
       "    <tr>\n",
       "      <th>40452</th>\n",
       "      <td>40452</td>\n",
       "      <td>1.00</td>\n",
       "      <td>Very Good</td>\n",
       "      <td>E</td>\n",
       "      <td>SI1</td>\n",
       "      <td>59.4</td>\n",
       "      <td>63.0</td>\n",
       "      <td>6.47</td>\n",
       "      <td>6.42</td>\n",
       "      <td>3.83</td>\n",
       "      <td>5322</td>\n",
       "    </tr>\n",
       "    <tr>\n",
       "      <th>40453</th>\n",
       "      <td>40453</td>\n",
       "      <td>0.57</td>\n",
       "      <td>Very Good</td>\n",
       "      <td>E</td>\n",
       "      <td>VS1</td>\n",
       "      <td>62.9</td>\n",
       "      <td>56.0</td>\n",
       "      <td>5.31</td>\n",
       "      <td>5.35</td>\n",
       "      <td>3.35</td>\n",
       "      <td>1942</td>\n",
       "    </tr>\n",
       "    <tr>\n",
       "      <th>40454</th>\n",
       "      <td>40454</td>\n",
       "      <td>2.09</td>\n",
       "      <td>Good</td>\n",
       "      <td>J</td>\n",
       "      <td>VS2</td>\n",
       "      <td>57.2</td>\n",
       "      <td>64.0</td>\n",
       "      <td>8.51</td>\n",
       "      <td>8.46</td>\n",
       "      <td>4.85</td>\n",
       "      <td>11576</td>\n",
       "    </tr>\n",
       "  </tbody>\n",
       "</table>\n",
       "<p>40455 rows × 11 columns</p>\n",
       "</div>"
      ],
      "text/plain": [
       "          id  carat        cut color clarity  depth  table     x     y     z  \\\n",
       "0          0   1.14      Ideal     G    VVS2   61.0   56.0  6.74  6.76  4.12   \n",
       "1          1   0.76      Ideal     H     VS2   62.7   57.0  5.86  5.82  3.66   \n",
       "2          2   0.84      Ideal     G     VS1   61.4   56.0  6.04  6.15  3.74   \n",
       "3          3   1.55      Ideal     H     VS1   62.0   57.0  7.37  7.43  4.59   \n",
       "4          4   0.30      Ideal     G     SI2   61.9   57.0  4.28  4.31  2.66   \n",
       "...      ...    ...        ...   ...     ...    ...    ...   ...   ...   ...   \n",
       "40450  40450   0.40      Ideal     E    VVS1   60.8   57.0  4.79  4.82  2.92   \n",
       "40451  40451   0.52      Ideal     J     SI2   61.6   55.0  5.16  5.19  3.19   \n",
       "40452  40452   1.00  Very Good     E     SI1   59.4   63.0  6.47  6.42  3.83   \n",
       "40453  40453   0.57  Very Good     E     VS1   62.9   56.0  5.31  5.35  3.35   \n",
       "40454  40454   2.09       Good     J     VS2   57.2   64.0  8.51  8.46  4.85   \n",
       "\n",
       "       price  \n",
       "0       9013  \n",
       "1       2692  \n",
       "2       4372  \n",
       "3      13665  \n",
       "4        422  \n",
       "...      ...  \n",
       "40450   1278  \n",
       "40451    924  \n",
       "40452   5322  \n",
       "40453   1942  \n",
       "40454  11576  \n",
       "\n",
       "[40455 rows x 11 columns]"
      ]
     },
     "execution_count": 16,
     "metadata": {},
     "output_type": "execute_result"
    }
   ],
   "source": [
    "train"
   ]
  },
  {
   "cell_type": "code",
   "execution_count": 17,
   "id": "1f84f6c2",
   "metadata": {},
   "outputs": [
    {
     "data": {
      "text/plain": [
       "(40455, 11)"
      ]
     },
     "execution_count": 17,
     "metadata": {},
     "output_type": "execute_result"
    }
   ],
   "source": [
    "train.shape"
   ]
  },
  {
   "cell_type": "code",
   "execution_count": 26,
   "id": "6b4286cf",
   "metadata": {},
   "outputs": [
    {
     "name": "stdout",
     "output_type": "stream",
     "text": [
      "<class 'pandas.core.frame.DataFrame'>\n",
      "RangeIndex: 40455 entries, 0 to 40454\n",
      "Data columns (total 11 columns):\n",
      " #   Column   Non-Null Count  Dtype  \n",
      "---  ------   --------------  -----  \n",
      " 0   id       40455 non-null  int64  \n",
      " 1   carat    40455 non-null  float64\n",
      " 2   cut      40455 non-null  object \n",
      " 3   color    40455 non-null  object \n",
      " 4   clarity  40455 non-null  object \n",
      " 5   depth    40455 non-null  float64\n",
      " 6   table    40455 non-null  float64\n",
      " 7   x        40455 non-null  float64\n",
      " 8   y        40455 non-null  float64\n",
      " 9   z        40455 non-null  float64\n",
      " 10  price    40455 non-null  int64  \n",
      "dtypes: float64(6), int64(2), object(3)\n",
      "memory usage: 3.4+ MB\n"
     ]
    }
   ],
   "source": [
    "train.info()"
   ]
  },
  {
   "cell_type": "code",
   "execution_count": 19,
   "id": "1cbffcaf",
   "metadata": {},
   "outputs": [
    {
     "data": {
      "text/plain": [
       "Index(['id', 'carat', 'cut', 'color', 'clarity', 'depth', 'table', 'x', 'y',\n",
       "       'z', 'price'],\n",
       "      dtype='object')"
      ]
     },
     "execution_count": 19,
     "metadata": {},
     "output_type": "execute_result"
    }
   ],
   "source": [
    "train.columns"
   ]
  },
  {
   "cell_type": "code",
   "execution_count": 24,
   "id": "685e98fd",
   "metadata": {},
   "outputs": [
    {
     "data": {
      "text/plain": [
       "id         0\n",
       "carat      0\n",
       "cut        0\n",
       "color      0\n",
       "clarity    0\n",
       "depth      0\n",
       "table      0\n",
       "x          0\n",
       "y          0\n",
       "z          0\n",
       "price      0\n",
       "dtype: int64"
      ]
     },
     "execution_count": 24,
     "metadata": {},
     "output_type": "execute_result"
    }
   ],
   "source": [
    "train.isna().sum()"
   ]
  },
  {
   "cell_type": "code",
   "execution_count": 27,
   "id": "c10b14e4",
   "metadata": {},
   "outputs": [
    {
     "data": {
      "text/plain": [
       "array([1.14, 0.76, 0.84, 1.55, 0.3 , 0.4 , 1.52, 1.13, 0.41, 0.24, 0.81,\n",
       "       1.2 , 1.24, 1.  , 0.51, 0.38, 0.46, 0.35, 1.02, 1.07, 1.22, 0.91,\n",
       "       0.54, 2.03, 0.32, 1.5 , 1.21, 0.27, 1.01, 0.31, 0.5 , 0.8 , 2.01,\n",
       "       0.7 , 0.44, 0.55, 0.53, 0.71, 0.42, 2.22, 1.11, 1.05, 0.23, 1.04,\n",
       "       1.56, 1.27, 0.36, 2.1 , 0.25, 1.53, 0.75, 0.93, 0.28, 0.33, 1.08,\n",
       "       0.9 , 0.52, 0.78, 1.88, 1.09, 1.8 , 1.12, 2.17, 2.4 , 0.61, 1.37,\n",
       "       0.34, 0.37, 1.51, 0.83, 0.73, 1.03, 1.25, 0.92, 1.06, 1.67, 0.56,\n",
       "       1.32, 0.72, 0.63, 2.51, 2.14, 1.59, 0.39, 2.06, 1.23, 2.04, 2.13,\n",
       "       1.7 , 0.6 , 0.58, 0.59, 0.43, 1.16, 0.57, 0.64, 1.61, 2.54, 0.79,\n",
       "       0.82, 2.28, 1.31, 1.19, 1.54, 0.45, 0.74, 2.15, 1.34, 2.  , 0.94,\n",
       "       1.41, 0.99, 1.29, 1.35, 1.78, 0.98, 1.17, 0.65, 1.71, 1.82, 2.05,\n",
       "       1.97, 0.49, 4.01, 0.97, 0.69, 0.29, 2.46, 2.25, 1.38, 1.3 , 1.15,\n",
       "       1.83, 1.57, 1.75, 0.21, 0.66, 1.33, 0.85, 1.1 , 2.12, 2.2 , 0.88,\n",
       "       0.77, 2.67, 2.08, 0.87, 2.19, 0.89, 1.26, 0.67, 0.47, 0.26, 1.65,\n",
       "       1.28, 1.4 , 1.18, 2.32, 2.44, 1.94, 1.6 , 0.95, 1.45, 1.62, 2.16,\n",
       "       2.26, 0.62, 2.31, 0.96, 1.39, 1.36, 2.02, 2.61, 1.98, 1.93, 1.73,\n",
       "       0.48, 1.72, 0.22, 2.5 , 1.43, 2.24, 1.74, 1.58, 2.39, 1.76, 2.09,\n",
       "       1.89, 1.91, 1.48, 1.84, 1.63, 2.27, 1.96, 2.11, 1.66, 2.21, 1.64,\n",
       "       1.46, 0.86, 1.42, 2.47, 2.3 , 2.37, 1.85, 2.56, 1.77, 2.07, 2.23,\n",
       "       2.43, 3.65, 3.01, 2.57, 1.47, 2.18, 3.24, 2.45, 1.79, 1.99, 1.44,\n",
       "       1.69, 2.29, 1.68, 3.  , 2.49, 0.68, 1.9 , 2.77, 2.42, 1.81, 2.35,\n",
       "       2.38, 0.2 , 3.22, 3.02, 1.92, 2.72, 2.34, 2.53, 2.52, 2.36, 2.41,\n",
       "       2.48, 2.63, 2.33, 2.58, 2.75, 2.6 , 1.86, 1.49, 2.66, 1.95, 2.7 ,\n",
       "       3.05, 2.74, 5.01, 1.87, 3.04, 2.55, 2.71, 2.68, 4.  , 3.4 , 4.13,\n",
       "       3.11, 2.65])"
      ]
     },
     "execution_count": 27,
     "metadata": {},
     "output_type": "execute_result"
    }
   ],
   "source": [
    "train.carat.unique()"
   ]
  },
  {
   "cell_type": "code",
   "execution_count": 28,
   "id": "be582bc0",
   "metadata": {},
   "outputs": [
    {
     "data": {
      "text/plain": [
       "array(['Ideal', 'Fair', 'Very Good', 'Premium', 'Good'], dtype=object)"
      ]
     },
     "execution_count": 28,
     "metadata": {},
     "output_type": "execute_result"
    }
   ],
   "source": [
    "train.cut.unique()"
   ]
  },
  {
   "cell_type": "code",
   "execution_count": 29,
   "id": "27177d3f",
   "metadata": {},
   "outputs": [
    {
     "data": {
      "text/plain": [
       "Ideal        16193\n",
       "Premium      10301\n",
       "Very Good     9030\n",
       "Good          3710\n",
       "Fair          1221\n",
       "Name: cut, dtype: int64"
      ]
     },
     "execution_count": 29,
     "metadata": {},
     "output_type": "execute_result"
    }
   ],
   "source": [
    "train.cut.value_counts()"
   ]
  },
  {
   "cell_type": "code",
   "execution_count": 30,
   "id": "8b750746",
   "metadata": {},
   "outputs": [
    {
     "data": {
      "text/plain": [
       "array(['G', 'H', 'F', 'J', 'E', 'I', 'D'], dtype=object)"
      ]
     },
     "execution_count": 30,
     "metadata": {},
     "output_type": "execute_result"
    }
   ],
   "source": [
    "train.color.unique()"
   ]
  },
  {
   "cell_type": "code",
   "execution_count": 31,
   "id": "c8efdd41",
   "metadata": {},
   "outputs": [
    {
     "data": {
      "text/plain": [
       "G    8459\n",
       "E    7346\n",
       "F    7174\n",
       "H    6273\n",
       "D    5019\n",
       "I    4065\n",
       "J    2119\n",
       "Name: color, dtype: int64"
      ]
     },
     "execution_count": 31,
     "metadata": {},
     "output_type": "execute_result"
    }
   ],
   "source": [
    "train.color.value_counts()"
   ]
  },
  {
   "cell_type": "code",
   "execution_count": 32,
   "id": "09a52ee6",
   "metadata": {},
   "outputs": [
    {
     "data": {
      "text/plain": [
       "array(['VVS2', 'VS2', 'VS1', 'SI2', 'SI1', 'VVS1', 'IF', 'I1'],\n",
       "      dtype=object)"
      ]
     },
     "execution_count": 32,
     "metadata": {},
     "output_type": "execute_result"
    }
   ],
   "source": [
    "train.clarity.unique()"
   ]
  },
  {
   "cell_type": "code",
   "execution_count": 33,
   "id": "e4939ce4",
   "metadata": {},
   "outputs": [
    {
     "data": {
      "text/plain": [
       "SI1     9746\n",
       "VS2     9175\n",
       "SI2     6912\n",
       "VS1     6137\n",
       "VVS2    3822\n",
       "VVS1    2732\n",
       "IF      1367\n",
       "I1       564\n",
       "Name: clarity, dtype: int64"
      ]
     },
     "execution_count": 33,
     "metadata": {},
     "output_type": "execute_result"
    }
   ],
   "source": [
    "train.clarity.value_counts()"
   ]
  },
  {
   "cell_type": "markdown",
   "id": "0cd221ee",
   "metadata": {},
   "source": [
    "## Asignamos el valor de las variables en un orden de acuerdo al precio que tienen los colores, la calidad y la claridad"
   ]
  },
  {
   "cell_type": "code",
   "execution_count": 38,
   "id": "c16a39d0",
   "metadata": {},
   "outputs": [],
   "source": [
    "dic_para_cut = {\"Ideal\": 2,\n",
    "                \"Fair\": 5,\n",
    "                \"Very Good\": 3,\n",
    "                \"Premium\":1,\n",
    "                \"Good\":4,\n",
    "}"
   ]
  },
  {
   "cell_type": "code",
   "execution_count": 39,
   "id": "35fce580",
   "metadata": {},
   "outputs": [],
   "source": [
    "dic_para_color = {\"D\":1,\n",
    "                \"E\":2,\n",
    "                \"F\":3,\n",
    "                \"G\":4,\n",
    "                \"H\":5,\n",
    "                \"I\":6,\n",
    "                \"J\":7\n",
    "}"
   ]
  },
  {
   "cell_type": "code",
   "execution_count": 40,
   "id": "b75ade69",
   "metadata": {},
   "outputs": [],
   "source": [
    "dic_para_clarity = {\"IF\":1,\n",
    "                \"VVS1\":2,\n",
    "                \"VVS2\":3,\n",
    "                \"VS1\":4,\n",
    "                \"VS2\":5,\n",
    "                \"SI1\":6,\n",
    "                \"SI2\":7,\n",
    "                \"I1\":8\n",
    "}"
   ]
  },
  {
   "cell_type": "code",
   "execution_count": 42,
   "id": "7976095f",
   "metadata": {},
   "outputs": [],
   "source": [
    "train.cut = train.cut.map(dic_para_cut)"
   ]
  },
  {
   "cell_type": "code",
   "execution_count": 43,
   "id": "1a2141ad",
   "metadata": {},
   "outputs": [],
   "source": [
    "train.color = train.color.map(dic_para_color)"
   ]
  },
  {
   "cell_type": "code",
   "execution_count": 44,
   "id": "a0d1ce97",
   "metadata": {},
   "outputs": [],
   "source": [
    "train.clarity = train.clarity.map(dic_para_clarity)"
   ]
  },
  {
   "cell_type": "code",
   "execution_count": 45,
   "id": "4e181dea",
   "metadata": {},
   "outputs": [
    {
     "data": {
      "text/html": [
       "<div>\n",
       "<style scoped>\n",
       "    .dataframe tbody tr th:only-of-type {\n",
       "        vertical-align: middle;\n",
       "    }\n",
       "\n",
       "    .dataframe tbody tr th {\n",
       "        vertical-align: top;\n",
       "    }\n",
       "\n",
       "    .dataframe thead th {\n",
       "        text-align: right;\n",
       "    }\n",
       "</style>\n",
       "<table border=\"1\" class=\"dataframe\">\n",
       "  <thead>\n",
       "    <tr style=\"text-align: right;\">\n",
       "      <th></th>\n",
       "      <th>id</th>\n",
       "      <th>carat</th>\n",
       "      <th>cut</th>\n",
       "      <th>color</th>\n",
       "      <th>clarity</th>\n",
       "      <th>depth</th>\n",
       "      <th>table</th>\n",
       "      <th>x</th>\n",
       "      <th>y</th>\n",
       "      <th>z</th>\n",
       "      <th>price</th>\n",
       "    </tr>\n",
       "  </thead>\n",
       "  <tbody>\n",
       "    <tr>\n",
       "      <th>0</th>\n",
       "      <td>0</td>\n",
       "      <td>1.14</td>\n",
       "      <td>2</td>\n",
       "      <td>4</td>\n",
       "      <td>3</td>\n",
       "      <td>61.0</td>\n",
       "      <td>56.0</td>\n",
       "      <td>6.74</td>\n",
       "      <td>6.76</td>\n",
       "      <td>4.12</td>\n",
       "      <td>9013</td>\n",
       "    </tr>\n",
       "    <tr>\n",
       "      <th>1</th>\n",
       "      <td>1</td>\n",
       "      <td>0.76</td>\n",
       "      <td>2</td>\n",
       "      <td>5</td>\n",
       "      <td>5</td>\n",
       "      <td>62.7</td>\n",
       "      <td>57.0</td>\n",
       "      <td>5.86</td>\n",
       "      <td>5.82</td>\n",
       "      <td>3.66</td>\n",
       "      <td>2692</td>\n",
       "    </tr>\n",
       "    <tr>\n",
       "      <th>2</th>\n",
       "      <td>2</td>\n",
       "      <td>0.84</td>\n",
       "      <td>2</td>\n",
       "      <td>4</td>\n",
       "      <td>4</td>\n",
       "      <td>61.4</td>\n",
       "      <td>56.0</td>\n",
       "      <td>6.04</td>\n",
       "      <td>6.15</td>\n",
       "      <td>3.74</td>\n",
       "      <td>4372</td>\n",
       "    </tr>\n",
       "    <tr>\n",
       "      <th>3</th>\n",
       "      <td>3</td>\n",
       "      <td>1.55</td>\n",
       "      <td>2</td>\n",
       "      <td>5</td>\n",
       "      <td>4</td>\n",
       "      <td>62.0</td>\n",
       "      <td>57.0</td>\n",
       "      <td>7.37</td>\n",
       "      <td>7.43</td>\n",
       "      <td>4.59</td>\n",
       "      <td>13665</td>\n",
       "    </tr>\n",
       "    <tr>\n",
       "      <th>4</th>\n",
       "      <td>4</td>\n",
       "      <td>0.30</td>\n",
       "      <td>2</td>\n",
       "      <td>4</td>\n",
       "      <td>7</td>\n",
       "      <td>61.9</td>\n",
       "      <td>57.0</td>\n",
       "      <td>4.28</td>\n",
       "      <td>4.31</td>\n",
       "      <td>2.66</td>\n",
       "      <td>422</td>\n",
       "    </tr>\n",
       "  </tbody>\n",
       "</table>\n",
       "</div>"
      ],
      "text/plain": [
       "   id  carat  cut  color  clarity  depth  table     x     y     z  price\n",
       "0   0   1.14    2      4        3   61.0   56.0  6.74  6.76  4.12   9013\n",
       "1   1   0.76    2      5        5   62.7   57.0  5.86  5.82  3.66   2692\n",
       "2   2   0.84    2      4        4   61.4   56.0  6.04  6.15  3.74   4372\n",
       "3   3   1.55    2      5        4   62.0   57.0  7.37  7.43  4.59  13665\n",
       "4   4   0.30    2      4        7   61.9   57.0  4.28  4.31  2.66    422"
      ]
     },
     "execution_count": 45,
     "metadata": {},
     "output_type": "execute_result"
    }
   ],
   "source": [
    "train.head()"
   ]
  },
  {
   "cell_type": "code",
   "execution_count": 48,
   "id": "fc3a6d84",
   "metadata": {},
   "outputs": [
    {
     "data": {
      "text/html": [
       "<div>\n",
       "<style scoped>\n",
       "    .dataframe tbody tr th:only-of-type {\n",
       "        vertical-align: middle;\n",
       "    }\n",
       "\n",
       "    .dataframe tbody tr th {\n",
       "        vertical-align: top;\n",
       "    }\n",
       "\n",
       "    .dataframe thead th {\n",
       "        text-align: right;\n",
       "    }\n",
       "</style>\n",
       "<table border=\"1\" class=\"dataframe\">\n",
       "  <thead>\n",
       "    <tr style=\"text-align: right;\">\n",
       "      <th></th>\n",
       "      <th>id</th>\n",
       "      <th>carat</th>\n",
       "      <th>cut</th>\n",
       "      <th>color</th>\n",
       "      <th>clarity</th>\n",
       "      <th>depth</th>\n",
       "      <th>table</th>\n",
       "      <th>x</th>\n",
       "      <th>y</th>\n",
       "      <th>z</th>\n",
       "      <th>price</th>\n",
       "    </tr>\n",
       "  </thead>\n",
       "  <tbody>\n",
       "    <tr>\n",
       "      <th>id</th>\n",
       "      <td>1.000000</td>\n",
       "      <td>-0.003349</td>\n",
       "      <td>0.002007</td>\n",
       "      <td>-0.001828</td>\n",
       "      <td>-0.000274</td>\n",
       "      <td>0.007690</td>\n",
       "      <td>-0.007495</td>\n",
       "      <td>-0.003985</td>\n",
       "      <td>-0.003997</td>\n",
       "      <td>-0.003010</td>\n",
       "      <td>-0.004065</td>\n",
       "    </tr>\n",
       "    <tr>\n",
       "      <th>carat</th>\n",
       "      <td>-0.003349</td>\n",
       "      <td>1.000000</td>\n",
       "      <td>0.021996</td>\n",
       "      <td>0.292673</td>\n",
       "      <td>0.352151</td>\n",
       "      <td>0.025563</td>\n",
       "      <td>0.181437</td>\n",
       "      <td>0.976119</td>\n",
       "      <td>0.968747</td>\n",
       "      <td>0.969643</td>\n",
       "      <td>0.921128</td>\n",
       "    </tr>\n",
       "    <tr>\n",
       "      <th>cut</th>\n",
       "      <td>0.002007</td>\n",
       "      <td>0.021996</td>\n",
       "      <td>1.000000</td>\n",
       "      <td>-0.005301</td>\n",
       "      <td>0.067268</td>\n",
       "      <td>0.312526</td>\n",
       "      <td>0.067102</td>\n",
       "      <td>0.007702</td>\n",
       "      <td>0.016801</td>\n",
       "      <td>0.051596</td>\n",
       "      <td>-0.028166</td>\n",
       "    </tr>\n",
       "    <tr>\n",
       "      <th>color</th>\n",
       "      <td>-0.001828</td>\n",
       "      <td>0.292673</td>\n",
       "      <td>-0.005301</td>\n",
       "      <td>1.000000</td>\n",
       "      <td>-0.026766</td>\n",
       "      <td>0.049141</td>\n",
       "      <td>0.023844</td>\n",
       "      <td>0.271814</td>\n",
       "      <td>0.269470</td>\n",
       "      <td>0.274945</td>\n",
       "      <td>0.172244</td>\n",
       "    </tr>\n",
       "    <tr>\n",
       "      <th>clarity</th>\n",
       "      <td>-0.000274</td>\n",
       "      <td>0.352151</td>\n",
       "      <td>0.067268</td>\n",
       "      <td>-0.026766</td>\n",
       "      <td>1.000000</td>\n",
       "      <td>0.070941</td>\n",
       "      <td>0.156182</td>\n",
       "      <td>0.371832</td>\n",
       "      <td>0.364112</td>\n",
       "      <td>0.373575</td>\n",
       "      <td>0.145062</td>\n",
       "    </tr>\n",
       "    <tr>\n",
       "      <th>depth</th>\n",
       "      <td>0.007690</td>\n",
       "      <td>0.025563</td>\n",
       "      <td>0.312526</td>\n",
       "      <td>0.049141</td>\n",
       "      <td>0.070941</td>\n",
       "      <td>1.000000</td>\n",
       "      <td>-0.297741</td>\n",
       "      <td>-0.028409</td>\n",
       "      <td>-0.031153</td>\n",
       "      <td>0.093987</td>\n",
       "      <td>-0.015052</td>\n",
       "    </tr>\n",
       "    <tr>\n",
       "      <th>table</th>\n",
       "      <td>-0.007495</td>\n",
       "      <td>0.181437</td>\n",
       "      <td>0.067102</td>\n",
       "      <td>0.023844</td>\n",
       "      <td>0.156182</td>\n",
       "      <td>-0.297741</td>\n",
       "      <td>1.000000</td>\n",
       "      <td>0.195592</td>\n",
       "      <td>0.187326</td>\n",
       "      <td>0.154194</td>\n",
       "      <td>0.127691</td>\n",
       "    </tr>\n",
       "    <tr>\n",
       "      <th>x</th>\n",
       "      <td>-0.003985</td>\n",
       "      <td>0.976119</td>\n",
       "      <td>0.007702</td>\n",
       "      <td>0.271814</td>\n",
       "      <td>0.371832</td>\n",
       "      <td>-0.028409</td>\n",
       "      <td>0.195592</td>\n",
       "      <td>1.000000</td>\n",
       "      <td>0.991276</td>\n",
       "      <td>0.986062</td>\n",
       "      <td>0.884874</td>\n",
       "    </tr>\n",
       "    <tr>\n",
       "      <th>y</th>\n",
       "      <td>-0.003997</td>\n",
       "      <td>0.968747</td>\n",
       "      <td>0.016801</td>\n",
       "      <td>0.269470</td>\n",
       "      <td>0.364112</td>\n",
       "      <td>-0.031153</td>\n",
       "      <td>0.187326</td>\n",
       "      <td>0.991276</td>\n",
       "      <td>1.000000</td>\n",
       "      <td>0.980160</td>\n",
       "      <td>0.880575</td>\n",
       "    </tr>\n",
       "    <tr>\n",
       "      <th>z</th>\n",
       "      <td>-0.003010</td>\n",
       "      <td>0.969643</td>\n",
       "      <td>0.051596</td>\n",
       "      <td>0.274945</td>\n",
       "      <td>0.373575</td>\n",
       "      <td>0.093987</td>\n",
       "      <td>0.154194</td>\n",
       "      <td>0.986062</td>\n",
       "      <td>0.980160</td>\n",
       "      <td>1.000000</td>\n",
       "      <td>0.875011</td>\n",
       "    </tr>\n",
       "    <tr>\n",
       "      <th>price</th>\n",
       "      <td>-0.004065</td>\n",
       "      <td>0.921128</td>\n",
       "      <td>-0.028166</td>\n",
       "      <td>0.172244</td>\n",
       "      <td>0.145062</td>\n",
       "      <td>-0.015052</td>\n",
       "      <td>0.127691</td>\n",
       "      <td>0.884874</td>\n",
       "      <td>0.880575</td>\n",
       "      <td>0.875011</td>\n",
       "      <td>1.000000</td>\n",
       "    </tr>\n",
       "  </tbody>\n",
       "</table>\n",
       "</div>"
      ],
      "text/plain": [
       "               id     carat       cut     color   clarity     depth     table  \\\n",
       "id       1.000000 -0.003349  0.002007 -0.001828 -0.000274  0.007690 -0.007495   \n",
       "carat   -0.003349  1.000000  0.021996  0.292673  0.352151  0.025563  0.181437   \n",
       "cut      0.002007  0.021996  1.000000 -0.005301  0.067268  0.312526  0.067102   \n",
       "color   -0.001828  0.292673 -0.005301  1.000000 -0.026766  0.049141  0.023844   \n",
       "clarity -0.000274  0.352151  0.067268 -0.026766  1.000000  0.070941  0.156182   \n",
       "depth    0.007690  0.025563  0.312526  0.049141  0.070941  1.000000 -0.297741   \n",
       "table   -0.007495  0.181437  0.067102  0.023844  0.156182 -0.297741  1.000000   \n",
       "x       -0.003985  0.976119  0.007702  0.271814  0.371832 -0.028409  0.195592   \n",
       "y       -0.003997  0.968747  0.016801  0.269470  0.364112 -0.031153  0.187326   \n",
       "z       -0.003010  0.969643  0.051596  0.274945  0.373575  0.093987  0.154194   \n",
       "price   -0.004065  0.921128 -0.028166  0.172244  0.145062 -0.015052  0.127691   \n",
       "\n",
       "                x         y         z     price  \n",
       "id      -0.003985 -0.003997 -0.003010 -0.004065  \n",
       "carat    0.976119  0.968747  0.969643  0.921128  \n",
       "cut      0.007702  0.016801  0.051596 -0.028166  \n",
       "color    0.271814  0.269470  0.274945  0.172244  \n",
       "clarity  0.371832  0.364112  0.373575  0.145062  \n",
       "depth   -0.028409 -0.031153  0.093987 -0.015052  \n",
       "table    0.195592  0.187326  0.154194  0.127691  \n",
       "x        1.000000  0.991276  0.986062  0.884874  \n",
       "y        0.991276  1.000000  0.980160  0.880575  \n",
       "z        0.986062  0.980160  1.000000  0.875011  \n",
       "price    0.884874  0.880575  0.875011  1.000000  "
      ]
     },
     "execution_count": 48,
     "metadata": {},
     "output_type": "execute_result"
    }
   ],
   "source": [
    "corr = train.corr()\n",
    "corr"
   ]
  },
  {
   "cell_type": "code",
   "execution_count": 56,
   "id": "65a0a1fd",
   "metadata": {},
   "outputs": [
    {
     "data": {
      "image/png": "[encoded data removed]",
      "text/plain": [
       "<Figure size 864x720 with 2 Axes>"
      ]
     },
     "metadata": {},
     "output_type": "display_data"
    }
   ],
   "source": [
    "mascara5 = np.triu(np.ones_like(corr, dtype=bool)) # generamos la máscara para la triangular superior\n",
    "color_map = sns.diverging_palette(0, 10, as_cmap=True) # paleta de colores\n",
    "sns.heatmap(corr,\n",
    "            mask = mascara5,\n",
    "            cmap='viridis',\n",
    "            square=True, #que los datos se vean como cuadrados\n",
    "            linewidth=0.5, #ancho de línea\n",
    "            vmax=1,\n",
    "            cbar_kws={\"shrink\": .5}, #barra lateral,\n",
    "            annot=True\n",
    ");"
   ]
  },
  {
   "cell_type": "code",
   "execution_count": 60,
   "id": "7967345d",
   "metadata": {},
   "outputs": [],
   "source": [
    "train.drop(columns=[\"x\",\"y\",\"z\"], inplace = True)"
   ]
  },
  {
   "cell_type": "code",
   "execution_count": 61,
   "id": "09e967c3",
   "metadata": {},
   "outputs": [
    {
     "data": {
      "text/html": [
       "<div>\n",
       "<style scoped>\n",
       "    .dataframe tbody tr th:only-of-type {\n",
       "        vertical-align: middle;\n",
       "    }\n",
       "\n",
       "    .dataframe tbody tr th {\n",
       "        vertical-align: top;\n",
       "    }\n",
       "\n",
       "    .dataframe thead th {\n",
       "        text-align: right;\n",
       "    }\n",
       "</style>\n",
       "<table border=\"1\" class=\"dataframe\">\n",
       "  <thead>\n",
       "    <tr style=\"text-align: right;\">\n",
       "      <th></th>\n",
       "      <th>id</th>\n",
       "      <th>carat</th>\n",
       "      <th>cut</th>\n",
       "      <th>color</th>\n",
       "      <th>clarity</th>\n",
       "      <th>depth</th>\n",
       "      <th>table</th>\n",
       "      <th>price</th>\n",
       "    </tr>\n",
       "  </thead>\n",
       "  <tbody>\n",
       "    <tr>\n",
       "      <th>id</th>\n",
       "      <td>1.000000</td>\n",
       "      <td>-0.003349</td>\n",
       "      <td>0.002007</td>\n",
       "      <td>-0.001828</td>\n",
       "      <td>-0.000274</td>\n",
       "      <td>0.007690</td>\n",
       "      <td>-0.007495</td>\n",
       "      <td>-0.004065</td>\n",
       "    </tr>\n",
       "    <tr>\n",
       "      <th>carat</th>\n",
       "      <td>-0.003349</td>\n",
       "      <td>1.000000</td>\n",
       "      <td>0.021996</td>\n",
       "      <td>0.292673</td>\n",
       "      <td>0.352151</td>\n",
       "      <td>0.025563</td>\n",
       "      <td>0.181437</td>\n",
       "      <td>0.921128</td>\n",
       "    </tr>\n",
       "    <tr>\n",
       "      <th>cut</th>\n",
       "      <td>0.002007</td>\n",
       "      <td>0.021996</td>\n",
       "      <td>1.000000</td>\n",
       "      <td>-0.005301</td>\n",
       "      <td>0.067268</td>\n",
       "      <td>0.312526</td>\n",
       "      <td>0.067102</td>\n",
       "      <td>-0.028166</td>\n",
       "    </tr>\n",
       "    <tr>\n",
       "      <th>color</th>\n",
       "      <td>-0.001828</td>\n",
       "      <td>0.292673</td>\n",
       "      <td>-0.005301</td>\n",
       "      <td>1.000000</td>\n",
       "      <td>-0.026766</td>\n",
       "      <td>0.049141</td>\n",
       "      <td>0.023844</td>\n",
       "      <td>0.172244</td>\n",
       "    </tr>\n",
       "    <tr>\n",
       "      <th>clarity</th>\n",
       "      <td>-0.000274</td>\n",
       "      <td>0.352151</td>\n",
       "      <td>0.067268</td>\n",
       "      <td>-0.026766</td>\n",
       "      <td>1.000000</td>\n",
       "      <td>0.070941</td>\n",
       "      <td>0.156182</td>\n",
       "      <td>0.145062</td>\n",
       "    </tr>\n",
       "    <tr>\n",
       "      <th>depth</th>\n",
       "      <td>0.007690</td>\n",
       "      <td>0.025563</td>\n",
       "      <td>0.312526</td>\n",
       "      <td>0.049141</td>\n",
       "      <td>0.070941</td>\n",
       "      <td>1.000000</td>\n",
       "      <td>-0.297741</td>\n",
       "      <td>-0.015052</td>\n",
       "    </tr>\n",
       "    <tr>\n",
       "      <th>table</th>\n",
       "      <td>-0.007495</td>\n",
       "      <td>0.181437</td>\n",
       "      <td>0.067102</td>\n",
       "      <td>0.023844</td>\n",
       "      <td>0.156182</td>\n",
       "      <td>-0.297741</td>\n",
       "      <td>1.000000</td>\n",
       "      <td>0.127691</td>\n",
       "    </tr>\n",
       "    <tr>\n",
       "      <th>price</th>\n",
       "      <td>-0.004065</td>\n",
       "      <td>0.921128</td>\n",
       "      <td>-0.028166</td>\n",
       "      <td>0.172244</td>\n",
       "      <td>0.145062</td>\n",
       "      <td>-0.015052</td>\n",
       "      <td>0.127691</td>\n",
       "      <td>1.000000</td>\n",
       "    </tr>\n",
       "  </tbody>\n",
       "</table>\n",
       "</div>"
      ],
      "text/plain": [
       "               id     carat       cut     color   clarity     depth     table  \\\n",
       "id       1.000000 -0.003349  0.002007 -0.001828 -0.000274  0.007690 -0.007495   \n",
       "carat   -0.003349  1.000000  0.021996  0.292673  0.352151  0.025563  0.181437   \n",
       "cut      0.002007  0.021996  1.000000 -0.005301  0.067268  0.312526  0.067102   \n",
       "color   -0.001828  0.292673 -0.005301  1.000000 -0.026766  0.049141  0.023844   \n",
       "clarity -0.000274  0.352151  0.067268 -0.026766  1.000000  0.070941  0.156182   \n",
       "depth    0.007690  0.025563  0.312526  0.049141  0.070941  1.000000 -0.297741   \n",
       "table   -0.007495  0.181437  0.067102  0.023844  0.156182 -0.297741  1.000000   \n",
       "price   -0.004065  0.921128 -0.028166  0.172244  0.145062 -0.015052  0.127691   \n",
       "\n",
       "            price  \n",
       "id      -0.004065  \n",
       "carat    0.921128  \n",
       "cut     -0.028166  \n",
       "color    0.172244  \n",
       "clarity  0.145062  \n",
       "depth   -0.015052  \n",
       "table    0.127691  \n",
       "price    1.000000  "
      ]
     },
     "execution_count": 61,
     "metadata": {},
     "output_type": "execute_result"
    }
   ],
   "source": [
    "corr2 = train.corr()\n",
    "corr2"
   ]
  },
  {
   "cell_type": "code",
   "execution_count": 62,
   "id": "1f011cef",
   "metadata": {},
   "outputs": [
    {
     "data": {
      "image/png": "[encoded data removed]",
      "text/plain": [
       "<Figure size 864x720 with 2 Axes>"
      ]
     },
     "metadata": {},
     "output_type": "display_data"
    }
   ],
   "source": [
    "mascara5 = np.triu(np.ones_like(corr2, dtype=bool)) # generamos la máscara para la triangular superior\n",
    "color_map = sns.diverging_palette(0, 10, as_cmap=True) # paleta de colores\n",
    "sns.heatmap(corr2,\n",
    "            mask = mascara5,\n",
    "            cmap='viridis',\n",
    "            square=True, #que los datos se vean como cuadrados\n",
    "            linewidth=0.5, #ancho de línea\n",
    "            vmax=1,\n",
    "            cbar_kws={\"shrink\": .5}, #barra lateral,\n",
    "            annot=True\n",
    ");"
   ]
  },
  {
   "cell_type": "code",
   "execution_count": 65,
   "id": "db1afca6",
   "metadata": {},
   "outputs": [],
   "source": [
    "train.to_csv(\"../Data/cleaning_train.csv\", index=False)"
   ]
  }
 ],
 "metadata": {
  "kernelspec": {
   "display_name": "ironhack",
   "language": "python",
   "name": "ironhack"
  },
  "language_info": {
   "codemirror_mode": {
    "name": "ipython",
    "version": 3
   },
   "file_extension": ".py",
   "mimetype": "text/x-python",
   "name": "python",
   "nbconvert_exporter": "python",
   "pygments_lexer": "ipython3",
   "version": "3.8.10"
  }
 },
 "nbformat": 4,
 "nbformat_minor": 5
}
